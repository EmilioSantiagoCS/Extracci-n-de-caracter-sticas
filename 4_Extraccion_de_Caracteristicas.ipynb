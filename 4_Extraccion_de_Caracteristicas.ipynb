{
  "nbformat": 4,
  "nbformat_minor": 0,
  "metadata": {
    "colab": {
      "provenance": [],
      "include_colab_link": true
    },
    "kernelspec": {
      "name": "python3",
      "display_name": "Python 3"
    },
    "language_info": {
      "name": "python"
    }
  },
  "cells": [
    {
      "cell_type": "markdown",
      "metadata": {
        "id": "view-in-github",
        "colab_type": "text"
      },
      "source": [
        "<a href=\"https://colab.research.google.com/github/EmilioSantiagoCS/Extracci-n-de-caracter-sticas/blob/main/4_Extraccion_de_Caracteristicas.ipynb\" target=\"_parent\"><img src=\"https://colab.research.google.com/assets/colab-badge.svg\" alt=\"Open In Colab\"/></a>"
      ]
    },
    {
      "cell_type": "code",
      "execution_count": null,
      "metadata": {
        "id": "e15NDSPogvnR"
      },
      "outputs": [],
      "source": [
        "#Instalamos librería para análisis de variables categóricas\n",
        "%pip install funpymodeling"
      ]
    },
    {
      "cell_type": "code",
      "source": [
        "#Importamos las librerias pandas, numpy y matplotlib respectivamente\n",
        "import pandas as pd\n",
        "import numpy as np\n",
        "import matplotlib.pyplot as plt\n",
        "from funpymodeling.exploratory import freq_tbl"
      ],
      "metadata": {
        "id": "HnrpjcR2kL67"
      },
      "execution_count": 4,
      "outputs": []
    },
    {
      "cell_type": "code",
      "source": [
        "#Cargar archivo csv desde equipo\n",
        "from google.colab import files\n",
        "files.upload()"
      ],
      "metadata": {
        "id": "JOyis7iJlAGI"
      },
      "execution_count": null,
      "outputs": []
    },
    {
      "cell_type": "code",
      "source": [
        "#Carga desde un archivo .xlsx sin indice\n",
        "Micro_Retailer= pd.read_excel('microretailer_mit_lift_lab.xlsx')"
      ],
      "metadata": {
        "id": "TYb6JsDYlLH0"
      },
      "execution_count": 6,
      "outputs": []
    },
    {
      "cell_type": "code",
      "source": [
        "#Verificamos información del DataFrame\n",
        "Micro_Retailer.info()"
      ],
      "metadata": {
        "id": "8DMdo-wQlvpP"
      },
      "execution_count": null,
      "outputs": []
    },
    {
      "cell_type": "code",
      "source": [
        "#Imprimo los primeros 5 registro del dataframe\n",
        "Micro_Retailer.head(1)"
      ],
      "metadata": {
        "id": "Z_cgqNqcmHKK"
      },
      "execution_count": null,
      "outputs": []
    },
    {
      "cell_type": "markdown",
      "source": [
        "**Selección de variables características y limpieza de datos**"
      ],
      "metadata": {
        "id": "u4lIjPO8szpY"
      }
    },
    {
      "cell_type": "code",
      "source": [
        "#Obtengo un análisis univariado de las variables categóricas\n",
        "freq_tbl(Micro_Retailer)"
      ],
      "metadata": {
        "id": "9tj6Jx-pmZNe"
      },
      "execution_count": null,
      "outputs": []
    },
    {
      "cell_type": "code",
      "source": [
        "Micro_Retailer_f=Micro_Retailer.iloc[ : , [1,3,8,9,10,11,12,15,23,24,26,27,35,36,47,55,83,84,85,86]]\n",
        "Micro_Retailer_f.head(20)"
      ],
      "metadata": {
        "id": "fB6QMOXtqGp3"
      },
      "execution_count": null,
      "outputs": []
    },
    {
      "cell_type": "code",
      "source": [
        "#Identificar valores nulos por columna\n",
        "valores_nulos=Micro_Retailer_f.isnull().sum()\n",
        "valores_nulos"
      ],
      "metadata": {
        "id": "npGAqKsGlP-d"
      },
      "execution_count": null,
      "outputs": []
    },
    {
      "cell_type": "code",
      "source": [
        "Micro_Retailer_f[\"184_store_devices\"] =Micro_Retailer_f[\"184_store_devices\"].fillna(method=\"bfill\")\n",
        "Micro_Retailer_f['214_customer_relationship_tools'] =Micro_Retailer_f['214_customer_relationship_tools'].fillna(method=\"ffill\")\n",
        "Micro_Retailer_f[\"5_change_store_space_last_year\"] =Micro_Retailer_f[\"5_change_store_space_last_year\"].fillna(method=\"ffill\")\n",
        "Micro_Retailer_f[\"6_change_employees_average_salary_last_year\"] =Micro_Retailer_f[\"6_change_employees_average_salary_last_year\"].fillna(method=\"ffill\")\n",
        "Micro_Retailer_f[\"49_inventory_records\"] =Micro_Retailer_f[\"49_inventory_records\"].fillna(method=\"ffill\")\n",
        "Micro_Retailer_f[\"18_sales_records\"] =Micro_Retailer_f[\"18_sales_records\"].fillna(method=\"ffill\")\n",
        "Micro_Retailer_f[\"210_sales_channels\"] =Micro_Retailer_f[\"210_sales_channels\"].fillna(\"Llamada a Teléfono celular\")\n",
        "Micro_Retailer_f[\"189_payment_methods\"] =Micro_Retailer_f[\"189_payment_methods\"].fillna(\"Efectivo\")\n",
        "Micro_Retailer_f[\"60_services\"] =Micro_Retailer_f[\"60_services\"].fillna(\"Ninguno\")\n",
        "Micro_Retailer_f[\"277_payment_method_suppliers\"] =Micro_Retailer_f[\"277_payment_method_suppliers\"].fillna(\"Efectivo\")\n",
        "Micro_Retailer_f[\"56_procurement_changes_pandemic\"] =Micro_Retailer_f[\"56_procurement_changes_pandemic\"].fillna(method=\"ffill\")\n",
        "Micro_Retailer_f[\"279_changes_procurement_pandemic\"] =Micro_Retailer_f[\"279_changes_procurement_pandemic\"].fillna(\"Disminuir la cantidad del pedido\")\n",
        "Micro_Retailer_f[\"157_frequency_organize_shelves\"] =Micro_Retailer_f[\"157_frequency_organize_shelves\"].fillna(method=\"ffill\")"
      ],
      "metadata": {
        "id": "o1EKjU0wnxw-"
      },
      "execution_count": null,
      "outputs": []
    },
    {
      "cell_type": "code",
      "source": [
        "#Identificar valores nulos por columna\n",
        "valores_nulos=Micro_Retailer_f.isnull().sum().sum()\n",
        "valores_nulos"
      ],
      "metadata": {
        "id": "S04vEbg8n8ZS"
      },
      "execution_count": null,
      "outputs": []
    },
    {
      "cell_type": "markdown",
      "source": [
        "**1° variable**"
      ],
      "metadata": {
        "id": "8bWa0YWatzrk"
      }
    },
    {
      "cell_type": "code",
      "source": [
        "#Obtengo un análisis univariado de una variable categórica en específico\n",
        "table1= freq_tbl(Micro_Retailer_f['_title'])\n",
        "table1"
      ],
      "metadata": {
        "id": "gaO7dfnqnTJW"
      },
      "execution_count": null,
      "outputs": []
    },
    {
      "cell_type": "code",
      "source": [
        "#Obtengo un filtro de los valores más reelevantes de la variables categórica seleccionada\n",
        "Filtro= table1[table1['frequency']>1]\n",
        "Filtro"
      ],
      "metadata": {
        "id": "4D3KYnR0nvkt"
      },
      "execution_count": null,
      "outputs": []
    },
    {
      "cell_type": "code",
      "source": [
        "#Ajusto el indice de mi dataframe\n",
        "Filtro_index= Filtro.set_index('_title')\n",
        "Filtro_index"
      ],
      "metadata": {
        "id": "cj4LZ67Eoaw5"
      },
      "execution_count": null,
      "outputs": []
    },
    {
      "cell_type": "code",
      "source": [
        "#Realizamos grafico de barras del dataframe filtrado\n",
        "Filtro_index.plot(kind = 'bar', width=1, figsize=(10,4))\n",
        "plt.title('Herramientas de relación con los clientes')\n",
        "plt.xlabel('Fechas')\n",
        "plt.ylabel('Frecuencia')"
      ],
      "metadata": {
        "id": "RyQuA2XQo3fP"
      },
      "execution_count": null,
      "outputs": []
    },
    {
      "cell_type": "markdown",
      "source": [
        "**2° variable**"
      ],
      "metadata": {
        "id": "r-XKIHteuOWV"
      }
    },
    {
      "cell_type": "code",
      "source": [
        "#Obtengo un análisis univariado de una variable categórica en específico\n",
        "table2= freq_tbl(Micro_Retailer_f['_updated_by'])\n",
        "table2"
      ],
      "metadata": {
        "id": "nM6JxBayw_M1"
      },
      "execution_count": null,
      "outputs": []
    },
    {
      "cell_type": "code",
      "source": [
        "#Obtengo un filtro de los valores más reelevantes de la variables categórica seleccionada\n",
        "Filtro2= table2[table2['frequency']>1]\n",
        "Filtro2"
      ],
      "metadata": {
        "id": "UOgmXMsRw-8o"
      },
      "execution_count": null,
      "outputs": []
    },
    {
      "cell_type": "code",
      "source": [
        "#Ajusto el indice de mi dataframe\n",
        "Filtro2_index= Filtro2.set_index('_updated_by')\n",
        "Filtro2_index"
      ],
      "metadata": {
        "id": "P8Ctwc7Ew-o8"
      },
      "execution_count": null,
      "outputs": []
    },
    {
      "cell_type": "code",
      "source": [
        "#Realizamos grafico de dispersión del dataframe filtrado\n",
        "Filtro2_index.plot(\"frequency\", \"cumulative_perc\", kind=\"scatter\")"
      ],
      "metadata": {
        "id": "svbjb5OEq3-9",
        "colab": {
          "base_uri": "https://localhost:8080/",
          "height": 471
        },
        "outputId": "9b654e6a-e848-4d45-9311-75e590ccfa66"
      },
      "execution_count": 105,
      "outputs": [
        {
          "output_type": "execute_result",
          "data": {
            "text/plain": [
              "<Axes: xlabel='frequency', ylabel='cumulative_perc'>"
            ]
          },
          "metadata": {},
          "execution_count": 105
        },
        {
          "output_type": "display_data",
          "data": {
            "text/plain": [
              "<Figure size 640x480 with 1 Axes>"
            ],
            "image/png": "[encoded data removed]"
          },
          "metadata": {}
        }
      ]
    },
    {
      "cell_type": "markdown",
      "source": [
        "**3° variable**"
      ],
      "metadata": {
        "id": "qOSOnaigurw0"
      }
    },
    {
      "cell_type": "code",
      "source": [
        "#Obtengo un análisis univariado de una variable categórica en específico\n",
        "table3= freq_tbl(Micro_Retailer_f['214_customer_relationship_tools'])\n",
        "table3"
      ],
      "metadata": {
        "id": "2h80Uw8tx-pM"
      },
      "execution_count": null,
      "outputs": []
    },
    {
      "cell_type": "code",
      "source": [
        "#Obtengo un filtro de los valores más reelevantes de la variables categórica seleccionada\n",
        "Filtro3= table3[table3['frequency']>1]\n",
        "Filtro3"
      ],
      "metadata": {
        "id": "5ejzzj2tx-bq"
      },
      "execution_count": null,
      "outputs": []
    },
    {
      "cell_type": "code",
      "source": [
        "#Ajusto el indice de mi dataframe\n",
        "Filtro3_index= Filtro3.set_index('214_customer_relationship_tools')\n",
        "Filtro3_index"
      ],
      "metadata": {
        "id": "zl9ih-ctx-Ne"
      },
      "execution_count": null,
      "outputs": []
    },
    {
      "cell_type": "code",
      "source": [
        "#Realizamos grafico de área del dataframe filtrado\n",
        "Filtro3_index.plot(kind='area', figsize=(10,4),alpha = 0.5)"
      ],
      "metadata": {
        "id": "ZgEMKCBXrgro"
      },
      "execution_count": null,
      "outputs": []
    },
    {
      "cell_type": "markdown",
      "source": [
        "**4° variable**"
      ],
      "metadata": {
        "id": "CBKmCbMRuyN2"
      }
    },
    {
      "cell_type": "code",
      "source": [
        "#Obtengo un análisis univariado de una variable categórica en específico\n",
        "table4= freq_tbl(Micro_Retailer_f['229_store_picture'])\n",
        "table4"
      ],
      "metadata": {
        "id": "byO7n2Wa0fDG"
      },
      "execution_count": null,
      "outputs": []
    },
    {
      "cell_type": "code",
      "source": [
        "#Obtengo un filtro de los valores más reelevantes de la variables categórica seleccionada\n",
        "Filtro4= table4[table4['frequency']>1]\n",
        "Filtro4"
      ],
      "metadata": {
        "id": "e26Wyqcc0fYC"
      },
      "execution_count": null,
      "outputs": []
    },
    {
      "cell_type": "code",
      "source": [
        "#Ajusto el indice de mi dataframe\n",
        "Filtro4_index= Filtro4.set_index('229_store_picture')\n",
        "Filtro4_index"
      ],
      "metadata": {
        "id": "HB7LD9DN0ftA"
      },
      "execution_count": null,
      "outputs": []
    },
    {
      "cell_type": "code",
      "source": [
        "#Realizamos grafico de pastel del dataframe filtrado\n",
        "Filtro4_index[\"frequency\"].plot(kind='pie', figsize=(10,5), shadow=True, autopct=\"%0.1f %%\")"
      ],
      "metadata": {
        "id": "0xXDnc7xsVZI"
      },
      "execution_count": null,
      "outputs": []
    },
    {
      "cell_type": "markdown",
      "source": [
        "**5° variable**"
      ],
      "metadata": {
        "id": "8c4uTpXbu3gA"
      }
    },
    {
      "cell_type": "code",
      "source": [
        "#Obtengo un análisis univariado de una variable categórica en específico\n",
        "table5= freq_tbl(Micro_Retailer_f['232_type_of_store'])\n",
        "table5"
      ],
      "metadata": {
        "id": "8I1STmTQ03s5"
      },
      "execution_count": null,
      "outputs": []
    },
    {
      "cell_type": "code",
      "source": [
        "#Obtengo un filtro de los valores más reelevantes de la variables categórica seleccionada\n",
        "Filtro5= table5[table5['frequency']>1]\n",
        "Filtro5"
      ],
      "metadata": {
        "id": "6nj-umnb04BQ"
      },
      "execution_count": null,
      "outputs": []
    },
    {
      "cell_type": "code",
      "source": [
        "#Ajusto el indice de mi dataframe\n",
        "Filtro5_index= Filtro5.set_index('232_type_of_store')\n",
        "Filtro5_index"
      ],
      "metadata": {
        "id": "1-7vrrvH04TH"
      },
      "execution_count": null,
      "outputs": []
    },
    {
      "cell_type": "code",
      "source": [
        "#Realizamos grafico hexagonal del dataframe filtrado, alternativo al scatter plot\n",
        "Filtro5_index.plot.hexbin(\"frequency\", \"cumulative_perc\", figsize=(10,5))"
      ],
      "metadata": {
        "id": "Lctb0Fh0s4ZQ"
      },
      "execution_count": null,
      "outputs": []
    },
    {
      "cell_type": "markdown",
      "source": [
        "**6° variable**"
      ],
      "metadata": {
        "id": "nnTVU6iRvAKC"
      }
    },
    {
      "cell_type": "code",
      "source": [
        "#Obtengo un análisis univariado de una variable categórica en específico\n",
        "table6= freq_tbl(Micro_Retailer_f['108_does_the_micro_retailer_has_a_barred_window_'])\n",
        "table6"
      ],
      "metadata": {
        "id": "H3S6cB4N1Yl9"
      },
      "execution_count": null,
      "outputs": []
    },
    {
      "cell_type": "code",
      "source": [
        "#Obtengo un filtro de los valores más reelevantes de la variables categórica seleccionada\n",
        "Filtro6= table6[table6['frequency']>1]\n",
        "Filtro6"
      ],
      "metadata": {
        "id": "EUKeNqEB1Ydz"
      },
      "execution_count": null,
      "outputs": []
    },
    {
      "cell_type": "code",
      "source": [
        "#Ajusto el indice de mi dataframe\n",
        "Filtro6_index= Filtro6.set_index('108_does_the_micro_retailer_has_a_barred_window_')\n",
        "Filtro6_index"
      ],
      "metadata": {
        "id": "CRgzr3dU1YU3"
      },
      "execution_count": null,
      "outputs": []
    },
    {
      "cell_type": "code",
      "source": [
        "#Realizamos grafico de pastel del dataframe filtrado\n",
        "Filtro6_index[\"frequency\"].plot(kind='pie', figsize=(10,5), shadow=True, autopct=\"%0.1f %%\")"
      ],
      "metadata": {
        "id": "w3-kqUV61YE_"
      },
      "execution_count": null,
      "outputs": []
    },
    {
      "cell_type": "markdown",
      "source": [
        "**7° variable**"
      ],
      "metadata": {
        "id": "h0fP_PU6vCww"
      }
    },
    {
      "cell_type": "code",
      "source": [
        "#Obtengo un análisis univariado de una variable categórica en específico\n",
        "table7= freq_tbl(Micro_Retailer_f['99_does_the_micro_retailer_exhibits_products_outside_'])\n",
        "table7"
      ],
      "metadata": {
        "id": "D4SFfLCR10B4"
      },
      "execution_count": null,
      "outputs": []
    },
    {
      "cell_type": "code",
      "source": [
        "#Obtengo un filtro de los valores más reelevantes de la variables categórica seleccionada\n",
        "Filtro7= table7[table7['frequency']>1]\n",
        "Filtro7"
      ],
      "metadata": {
        "id": "v5q79oyz1z5O"
      },
      "execution_count": null,
      "outputs": []
    },
    {
      "cell_type": "code",
      "source": [
        "#Ajusto el indice de mi dataframe\n",
        "Filtro7_index= Filtro7.set_index('99_does_the_micro_retailer_exhibits_products_outside_')\n",
        "Filtro7_index"
      ],
      "metadata": {
        "id": "3PIDza-t19KJ"
      },
      "execution_count": null,
      "outputs": []
    },
    {
      "cell_type": "code",
      "source": [
        "#Realizamos grafico de pastel del dataframe filtrado\n",
        "Filtro7_index[\"frequency\"].plot(kind='pie', figsize=(10,5), shadow=True, autopct=\"%0.1f %%\")"
      ],
      "metadata": {
        "id": "Lp19ZJxu2AYw"
      },
      "execution_count": null,
      "outputs": []
    },
    {
      "cell_type": "markdown",
      "source": [
        "**8° variable**"
      ],
      "metadata": {
        "id": "6WuKwbJFvH6C"
      }
    },
    {
      "cell_type": "code",
      "source": [
        "#Obtengo un análisis univariado de una variable categórica en específico\n",
        "table8= freq_tbl(Micro_Retailer_f['102_does_the_micro_retailer_sells_fresh_products_'])\n",
        "table8"
      ],
      "metadata": {
        "id": "952sKdv62R58"
      },
      "execution_count": null,
      "outputs": []
    },
    {
      "cell_type": "code",
      "source": [
        "#Obtengo un filtro de los valores más reelevantes de la variables categórica seleccionada\n",
        "Filtro8= table8[table8['frequency']>1]\n",
        "Filtro8"
      ],
      "metadata": {
        "id": "yMZO4Zyk2Tmw"
      },
      "execution_count": null,
      "outputs": []
    },
    {
      "cell_type": "code",
      "source": [
        "#Ajusto el indice de mi dataframe\n",
        "Filtro8_index= Filtro8.set_index('102_does_the_micro_retailer_sells_fresh_products_')\n",
        "Filtro8_index"
      ],
      "metadata": {
        "id": "rMqn7NiY2VEI"
      },
      "execution_count": null,
      "outputs": []
    },
    {
      "cell_type": "code",
      "source": [
        "#Realizamos grafico de pastel del dataframe filtrado\n",
        "Filtro8_index[\"frequency\"].plot(kind='pie', figsize=(10,5), shadow=True, autopct=\"%0.1f %%\")"
      ],
      "metadata": {
        "id": "zLNmF-992Wh5"
      },
      "execution_count": null,
      "outputs": []
    },
    {
      "cell_type": "markdown",
      "source": [
        "**9° variable**"
      ],
      "metadata": {
        "id": "QIYwhW-wvKD1"
      }
    },
    {
      "cell_type": "code",
      "source": [
        "#Obtengo un análisis univariado de una variable categórica en específico\n",
        "table9= freq_tbl(Micro_Retailer_f['184_store_devices'])\n",
        "table9"
      ],
      "metadata": {
        "id": "gJhuHwV72rp-"
      },
      "execution_count": null,
      "outputs": []
    },
    {
      "cell_type": "code",
      "source": [
        "#Obtengo un filtro de los valores más reelevantes de la variables categórica seleccionada\n",
        "Filtro9= table9[table9['frequency']>1]\n",
        "Filtro9"
      ],
      "metadata": {
        "id": "lZwDP0TJ2s4u"
      },
      "execution_count": null,
      "outputs": []
    },
    {
      "cell_type": "code",
      "source": [
        "#Ajusto el indice de mi dataframe\n",
        "Filtro9_index= Filtro9.set_index('184_store_devices')\n",
        "Filtro9_index"
      ],
      "metadata": {
        "id": "TZyUQUh42uff"
      },
      "execution_count": null,
      "outputs": []
    },
    {
      "cell_type": "code",
      "source": [
        "#Realizamos grafico de pastel del dataframe filtrado\n",
        "Filtro9_index[\"frequency\"].plot(kind='pie', figsize=(10,5), shadow=True, autopct=\"%0.1f %%\")"
      ],
      "metadata": {
        "id": "cq6hilRh2wJp"
      },
      "execution_count": null,
      "outputs": []
    },
    {
      "cell_type": "markdown",
      "source": [
        "**10° variable**"
      ],
      "metadata": {
        "id": "q_MBHk8MvMfN"
      }
    },
    {
      "cell_type": "code",
      "source": [
        "#Obtengo un análisis univariado de una variable categórica en específico\n",
        "table10= freq_tbl(Micro_Retailer_f['5_change_store_space_last_year'])\n",
        "table10\n",
        "\n",
        "#Obtengo un filtro de los valores más reelevantes de la variables categórica seleccionada\n",
        "Filtro10= table10[table10['frequency']>1]\n",
        "Filtro10\n",
        "\n",
        "#Ajusto el indice de mi dataframe\n",
        "Filtro10_index= Filtro10.set_index('5_change_store_space_last_year')\n",
        "Filtro10_index"
      ],
      "metadata": {
        "id": "qLKbwtUs_yoB"
      },
      "execution_count": null,
      "outputs": []
    },
    {
      "cell_type": "code",
      "source": [
        "#Realizamos grafico de pastel del dataframe filtrado\n",
        "Filtro10_index[\"frequency\"].plot(kind='pie', figsize=(10,5), shadow=True, autopct=\"%0.1f %%\")"
      ],
      "metadata": {
        "id": "38YSCy4n3S5F"
      },
      "execution_count": null,
      "outputs": []
    },
    {
      "cell_type": "markdown",
      "source": [
        "**11° variable**"
      ],
      "metadata": {
        "id": "6PMXEoVMvfiI"
      }
    },
    {
      "cell_type": "code",
      "source": [
        "#Obtengo un análisis univariado de una variable categórica en específico\n",
        "table11= freq_tbl(Micro_Retailer_f['6_change_employees_average_salary_last_year'])\n",
        "table11\n",
        "\n",
        "#Obtengo un filtro de los valores más reelevantes de la variables categórica seleccionada\n",
        "Filtro11= table11[table11['frequency']>1]\n",
        "Filtro11\n",
        "\n",
        "#Ajusto el indice de mi dataframe\n",
        "Filtro11_index= Filtro11.set_index('6_change_employees_average_salary_last_year')\n",
        "Filtro11_index\n"
      ],
      "metadata": {
        "id": "0Dg2sOXn_wCk"
      },
      "execution_count": null,
      "outputs": []
    },
    {
      "cell_type": "code",
      "source": [
        "#Realizamos grafico de pastel del dataframe filtrado\n",
        "Filtro11_index[\"frequency\"].plot(kind='pie', figsize=(10,5), shadow=True, autopct=\"%0.1f %%\")"
      ],
      "metadata": {
        "id": "cJIlvTD776Df"
      },
      "execution_count": null,
      "outputs": []
    },
    {
      "cell_type": "markdown",
      "source": [
        "**12° variable**"
      ],
      "metadata": {
        "id": "5Dwi6JzEvhpC"
      }
    },
    {
      "cell_type": "code",
      "source": [
        "#Obtengo un análisis univariado de una variable categórica en específico\n",
        "table12= freq_tbl(Micro_Retailer_f['49_inventory_records'])\n",
        "table12\n",
        "\n",
        "#Obtengo un filtro de los valores más reelevantes de la variables categórica seleccionada\n",
        "Filtro12= table12[table12['frequency']>1]\n",
        "Filtro12\n",
        "\n",
        "#Ajusto el indice de mi dataframe\n",
        "Filtro12_index= Filtro12.set_index('49_inventory_records')\n",
        "Filtro12_index"
      ],
      "metadata": {
        "id": "AslDMuj1_s2n"
      },
      "execution_count": null,
      "outputs": []
    },
    {
      "cell_type": "code",
      "source": [
        "#Realizamos grafico de pastel del dataframe filtrado\n",
        "Filtro12_index[\"frequency\"].plot(kind='pie', figsize=(10,5), shadow=True, autopct=\"%0.1f %%\")"
      ],
      "metadata": {
        "id": "Wl2eLG388HFw"
      },
      "execution_count": null,
      "outputs": []
    },
    {
      "cell_type": "markdown",
      "source": [
        "**13° variable**"
      ],
      "metadata": {
        "id": "9QzotzRwvk_F"
      }
    },
    {
      "cell_type": "code",
      "source": [
        "#Obtengo un análisis univariado de una variable categórica en específico\n",
        "table13= freq_tbl(Micro_Retailer_f['18_sales_records'])\n",
        "table13\n",
        "\n",
        "#Obtengo un filtro de los valores más reelevantes de la variables categórica seleccionada\n",
        "Filtro13= table13[table13['frequency']>1]\n",
        "Filtro13\n",
        "\n",
        "#Ajusto el indice de mi dataframe\n",
        "Filtro13_index= Filtro13.set_index('18_sales_records')\n",
        "Filtro13_index"
      ],
      "metadata": {
        "id": "HI4qM5cb_qrv"
      },
      "execution_count": null,
      "outputs": []
    },
    {
      "cell_type": "code",
      "source": [
        "#Realizamos grafico de pastel del dataframe filtrado\n",
        "Filtro13_index[\"frequency\"].plot(kind='pie', figsize=(10,5), shadow=True, autopct=\"%0.1f %%\")"
      ],
      "metadata": {
        "id": "l7dPjFHQ8Zf1"
      },
      "execution_count": null,
      "outputs": []
    },
    {
      "cell_type": "markdown",
      "source": [
        "**14° variable**"
      ],
      "metadata": {
        "id": "kXY9MnTlvuhu"
      }
    },
    {
      "cell_type": "code",
      "source": [
        "#Obtengo un análisis univariado de una variable categórica en específico\n",
        "table14= freq_tbl(Micro_Retailer_f['210_sales_channels'])\n",
        "table14\n",
        "\n",
        "#Obtengo un filtro de los valores más reelevantes de la variables categórica seleccionada\n",
        "Filtro14= table14[table14['frequency']>1]\n",
        "Filtro14\n",
        "\n",
        "#Ajusto el indice de mi dataframe\n",
        "Filtro14_index= Filtro14.set_index('210_sales_channels')\n",
        "Filtro14_index"
      ],
      "metadata": {
        "id": "RK7ILKO3_o1C"
      },
      "execution_count": null,
      "outputs": []
    },
    {
      "cell_type": "code",
      "source": [
        "#Realizamos grafico de pastel del dataframe filtrado\n",
        "Filtro14_index[\"frequency\"].plot(kind='pie', figsize=(10,5), shadow=True, autopct=\"%0.1f %%\")"
      ],
      "metadata": {
        "id": "dWB21yzj8aJb"
      },
      "execution_count": null,
      "outputs": []
    },
    {
      "cell_type": "markdown",
      "source": [
        "**15° variable**"
      ],
      "metadata": {
        "id": "cepjSDTxvxU8"
      }
    },
    {
      "cell_type": "code",
      "source": [
        "#Obtengo un análisis univariado de una variable categórica en específico\n",
        "table15= freq_tbl(Micro_Retailer_f['189_payment_methods'])\n",
        "table15\n",
        "\n",
        "#Obtengo un filtro de los valores más reelevantes de la variables categórica seleccionada\n",
        "Filtro15= table15[table15['frequency']>1]\n",
        "Filtro15\n",
        "\n",
        "#Ajusto el indice de mi dataframe\n",
        "Filtro15_index= Filtro15.set_index('189_payment_methods')\n",
        "Filtro15_index"
      ],
      "metadata": {
        "id": "2CN9tL-Y_mls"
      },
      "execution_count": null,
      "outputs": []
    },
    {
      "cell_type": "code",
      "source": [
        "#Realizamos grafico de pastel del dataframe filtrado\n",
        "Filtro15_index[\"frequency\"].plot(kind='pie', figsize=(10,5), shadow=True, autopct=\"%0.1f %%\")"
      ],
      "metadata": {
        "id": "1N06xTAP8aqj"
      },
      "execution_count": null,
      "outputs": []
    },
    {
      "cell_type": "markdown",
      "source": [
        "**16° variable**"
      ],
      "metadata": {
        "id": "lFSVPK1uwyjR"
      }
    },
    {
      "cell_type": "code",
      "source": [
        "#Obtengo un análisis univariado de una variable categórica en específico\n",
        "table16= freq_tbl(Micro_Retailer_f['60_services'])\n",
        "table16\n",
        "\n",
        "#Obtengo un filtro de los valores más reelevantes de la variables categórica seleccionada\n",
        "Filtro16= table16[table16['frequency']>1]\n",
        "Filtro16\n",
        "\n",
        "#Ajusto el indice de mi dataframe\n",
        "Filtro16_index= Filtro16.set_index('60_services')\n",
        "Filtro16_index"
      ],
      "metadata": {
        "id": "924jHIF6_kJ0"
      },
      "execution_count": null,
      "outputs": []
    },
    {
      "cell_type": "code",
      "source": [
        "#Realizamos grafico de pastel del dataframe filtrado\n",
        "Filtro16_index[\"frequency\"].plot(kind='pie', figsize=(10,5), shadow=True, autopct=\"%0.1f %%\")"
      ],
      "metadata": {
        "id": "WJdM3yxA8bIv"
      },
      "execution_count": null,
      "outputs": []
    },
    {
      "cell_type": "markdown",
      "source": [
        "**17° variable**"
      ],
      "metadata": {
        "id": "_5qxjr9ywya9"
      }
    },
    {
      "cell_type": "code",
      "source": [
        "#Obtengo un análisis univariado de una variable categórica en específico\n",
        "table17= freq_tbl(Micro_Retailer_f['277_payment_method_suppliers'])\n",
        "table17\n",
        "\n",
        "#Obtengo un filtro de los valores más reelevantes de la variables categórica seleccionada\n",
        "Filtro17= table17[table17['frequency']>1]\n",
        "Filtro17\n",
        "\n",
        "#Ajusto el indice de mi dataframe\n",
        "Filtro17_index= Filtro17.set_index('277_payment_method_suppliers')\n",
        "Filtro17_index"
      ],
      "metadata": {
        "colab": {
          "base_uri": "https://localhost:8080/",
          "height": 269
        },
        "id": "zQQUqyjj_hIg",
        "outputId": "54edcd07-bc0f-4536-d436-f45a9310548c"
      },
      "execution_count": 136,
      "outputs": [
        {
          "output_type": "execute_result",
          "data": {
            "text/plain": [
              "                                                    frequency  percentage  \\\n",
              "277_payment_method_suppliers                                                \n",
              "Efectivo                                                  146    0.853801   \n",
              "Efectivo,Transferencia interbancaria                        8    0.046784   \n",
              "Transferencia interbancaria                                 7    0.040936   \n",
              "Efectivo,Tarjeta de débito y/o crédito                      4    0.023392   \n",
              "Tarjeta de débito y/o crédito                               4    0.023392   \n",
              "Efectivo,Tarjeta de débito y/o crédito,Transfer...          2    0.011696   \n",
              "\n",
              "                                                    cumulative_perc  \n",
              "277_payment_method_suppliers                                         \n",
              "Efectivo                                                   0.853801  \n",
              "Efectivo,Transferencia interbancaria                       0.900585  \n",
              "Transferencia interbancaria                                0.941520  \n",
              "Efectivo,Tarjeta de débito y/o crédito                     0.964912  \n",
              "Tarjeta de débito y/o crédito                              0.988304  \n",
              "Efectivo,Tarjeta de débito y/o crédito,Transfer...         1.000000  "
            ],
            "text/html": [
              "\n",
              "  <div id=\"df-ff7a93e9-2b7f-4925-b59b-1836292c0107\" class=\"colab-df-container\">\n",
              "    <div>\n",
              "<style scoped>\n",
              "    .dataframe tbody tr th:only-of-type {\n",
              "        vertical-align: middle;\n",
              "    }\n",
              "\n",
              "    .dataframe tbody tr th {\n",
              "        vertical-align: top;\n",
              "    }\n",
              "\n",
              "    .dataframe thead th {\n",
              "        text-align: right;\n",
              "    }\n",
              "</style>\n",
              "<table border=\"1\" class=\"dataframe\">\n",
              "  <thead>\n",
              "    <tr style=\"text-align: right;\">\n",
              "      <th></th>\n",
              "      <th>frequency</th>\n",
              "      <th>percentage</th>\n",
              "      <th>cumulative_perc</th>\n",
              "    </tr>\n",
              "    <tr>\n",
              "      <th>277_payment_method_suppliers</th>\n",
              "      <th></th>\n",
              "      <th></th>\n",
              "      <th></th>\n",
              "    </tr>\n",
              "  </thead>\n",
              "  <tbody>\n",
              "    <tr>\n",
              "      <th>Efectivo</th>\n",
              "      <td>146</td>\n",
              "      <td>0.853801</td>\n",
              "      <td>0.853801</td>\n",
              "    </tr>\n",
              "    <tr>\n",
              "      <th>Efectivo,Transferencia interbancaria</th>\n",
              "      <td>8</td>\n",
              "      <td>0.046784</td>\n",
              "      <td>0.900585</td>\n",
              "    </tr>\n",
              "    <tr>\n",
              "      <th>Transferencia interbancaria</th>\n",
              "      <td>7</td>\n",
              "      <td>0.040936</td>\n",
              "      <td>0.941520</td>\n",
              "    </tr>\n",
              "    <tr>\n",
              "      <th>Efectivo,Tarjeta de débito y/o crédito</th>\n",
              "      <td>4</td>\n",
              "      <td>0.023392</td>\n",
              "      <td>0.964912</td>\n",
              "    </tr>\n",
              "    <tr>\n",
              "      <th>Tarjeta de débito y/o crédito</th>\n",
              "      <td>4</td>\n",
              "      <td>0.023392</td>\n",
              "      <td>0.988304</td>\n",
              "    </tr>\n",
              "    <tr>\n",
              "      <th>Efectivo,Tarjeta de débito y/o crédito,Transferencia interbancaria</th>\n",
              "      <td>2</td>\n",
              "      <td>0.011696</td>\n",
              "      <td>1.000000</td>\n",
              "    </tr>\n",
              "  </tbody>\n",
              "</table>\n",
              "</div>\n",
              "    <div class=\"colab-df-buttons\">\n",
              "\n",
              "  <div class=\"colab-df-container\">\n",
              "    <button class=\"colab-df-convert\" onclick=\"convertToInteractive('df-ff7a93e9-2b7f-4925-b59b-1836292c0107')\"\n",
              "            title=\"Convert this dataframe to an interactive table.\"\n",
              "            style=\"display:none;\">\n",
              "\n",
              "  <svg xmlns=\"http://www.w3.org/2000/svg\" height=\"24px\" viewBox=\"0 -960 960 960\">\n",
              "    <path d=\"M120-120v-720h720v720H120Zm60-500h600v-160H180v160Zm220 220h160v-160H400v160Zm0 220h160v-160H400v160ZM180-400h160v-160H180v160Zm440 0h160v-160H620v160ZM180-180h160v-160H180v160Zm440 0h160v-160H620v160Z\"/>\n",
              "  </svg>\n",
              "    </button>\n",
              "\n",
              "  <style>\n",
              "    .colab-df-container {\n",
              "      display:flex;\n",
              "      gap: 12px;\n",
              "    }\n",
              "\n",
              "    .colab-df-convert {\n",
              "      background-color: #E8F0FE;\n",
              "      border: none;\n",
              "      border-radius: 50%;\n",
              "      cursor: pointer;\n",
              "      display: none;\n",
              "      fill: #1967D2;\n",
              "      height: 32px;\n",
              "      padding: 0 0 0 0;\n",
              "      width: 32px;\n",
              "    }\n",
              "\n",
              "    .colab-df-convert:hover {\n",
              "      background-color: #E2EBFA;\n",
              "      box-shadow: 0px 1px 2px rgba(60, 64, 67, 0.3), 0px 1px 3px 1px rgba(60, 64, 67, 0.15);\n",
              "      fill: #174EA6;\n",
              "    }\n",
              "\n",
              "    .colab-df-buttons div {\n",
              "      margin-bottom: 4px;\n",
              "    }\n",
              "\n",
              "    [theme=dark] .colab-df-convert {\n",
              "      background-color: #3B4455;\n",
              "      fill: #D2E3FC;\n",
              "    }\n",
              "\n",
              "    [theme=dark] .colab-df-convert:hover {\n",
              "      background-color: #434B5C;\n",
              "      box-shadow: 0px 1px 3px 1px rgba(0, 0, 0, 0.15);\n",
              "      filter: drop-shadow(0px 1px 2px rgba(0, 0, 0, 0.3));\n",
              "      fill: #FFFFFF;\n",
              "    }\n",
              "  </style>\n",
              "\n",
              "    <script>\n",
              "      const buttonEl =\n",
              "        document.querySelector('#df-ff7a93e9-2b7f-4925-b59b-1836292c0107 button.colab-df-convert');\n",
              "      buttonEl.style.display =\n",
              "        google.colab.kernel.accessAllowed ? 'block' : 'none';\n",
              "\n",
              "      async function convertToInteractive(key) {\n",
              "        const element = document.querySelector('#df-ff7a93e9-2b7f-4925-b59b-1836292c0107');\n",
              "        const dataTable =\n",
              "          await google.colab.kernel.invokeFunction('convertToInteractive',\n",
              "                                                    [key], {});\n",
              "        if (!dataTable) return;\n",
              "\n",
              "        const docLinkHtml = 'Like what you see? Visit the ' +\n",
              "          '<a target=\"_blank\" href=https://colab.research.google.com/notebooks/data_table.ipynb>data table notebook</a>'\n",
              "          + ' to learn more about interactive tables.';\n",
              "        element.innerHTML = '';\n",
              "        dataTable['output_type'] = 'display_data';\n",
              "        await google.colab.output.renderOutput(dataTable, element);\n",
              "        const docLink = document.createElement('div');\n",
              "        docLink.innerHTML = docLinkHtml;\n",
              "        element.appendChild(docLink);\n",
              "      }\n",
              "    </script>\n",
              "  </div>\n",
              "\n",
              "\n",
              "<div id=\"df-54429088-ec80-41c1-a887-97ce8da5d307\">\n",
              "  <button class=\"colab-df-quickchart\" onclick=\"quickchart('df-54429088-ec80-41c1-a887-97ce8da5d307')\"\n",
              "            title=\"Suggest charts\"\n",
              "            style=\"display:none;\">\n",
              "\n",
              "<svg xmlns=\"http://www.w3.org/2000/svg\" height=\"24px\"viewBox=\"0 0 24 24\"\n",
              "     width=\"24px\">\n",
              "    <g>\n",
              "        <path d=\"M19 3H5c-1.1 0-2 .9-2 2v14c0 1.1.9 2 2 2h14c1.1 0 2-.9 2-2V5c0-1.1-.9-2-2-2zM9 17H7v-7h2v7zm4 0h-2V7h2v10zm4 0h-2v-4h2v4z\"/>\n",
              "    </g>\n",
              "</svg>\n",
              "  </button>\n",
              "\n",
              "<style>\n",
              "  .colab-df-quickchart {\n",
              "      --bg-color: #E8F0FE;\n",
              "      --fill-color: #1967D2;\n",
              "      --hover-bg-color: #E2EBFA;\n",
              "      --hover-fill-color: #174EA6;\n",
              "      --disabled-fill-color: #AAA;\n",
              "      --disabled-bg-color: #DDD;\n",
              "  }\n",
              "\n",
              "  [theme=dark] .colab-df-quickchart {\n",
              "      --bg-color: #3B4455;\n",
              "      --fill-color: #D2E3FC;\n",
              "      --hover-bg-color: #434B5C;\n",
              "      --hover-fill-color: #FFFFFF;\n",
              "      --disabled-bg-color: #3B4455;\n",
              "      --disabled-fill-color: #666;\n",
              "  }\n",
              "\n",
              "  .colab-df-quickchart {\n",
              "    background-color: var(--bg-color);\n",
              "    border: none;\n",
              "    border-radius: 50%;\n",
              "    cursor: pointer;\n",
              "    display: none;\n",
              "    fill: var(--fill-color);\n",
              "    height: 32px;\n",
              "    padding: 0;\n",
              "    width: 32px;\n",
              "  }\n",
              "\n",
              "  .colab-df-quickchart:hover {\n",
              "    background-color: var(--hover-bg-color);\n",
              "    box-shadow: 0 1px 2px rgba(60, 64, 67, 0.3), 0 1px 3px 1px rgba(60, 64, 67, 0.15);\n",
              "    fill: var(--button-hover-fill-color);\n",
              "  }\n",
              "\n",
              "  .colab-df-quickchart-complete:disabled,\n",
              "  .colab-df-quickchart-complete:disabled:hover {\n",
              "    background-color: var(--disabled-bg-color);\n",
              "    fill: var(--disabled-fill-color);\n",
              "    box-shadow: none;\n",
              "  }\n",
              "\n",
              "  .colab-df-spinner {\n",
              "    border: 2px solid var(--fill-color);\n",
              "    border-color: transparent;\n",
              "    border-bottom-color: var(--fill-color);\n",
              "    animation:\n",
              "      spin 1s steps(1) infinite;\n",
              "  }\n",
              "\n",
              "  @keyframes spin {\n",
              "    0% {\n",
              "      border-color: transparent;\n",
              "      border-bottom-color: var(--fill-color);\n",
              "      border-left-color: var(--fill-color);\n",
              "    }\n",
              "    20% {\n",
              "      border-color: transparent;\n",
              "      border-left-color: var(--fill-color);\n",
              "      border-top-color: var(--fill-color);\n",
              "    }\n",
              "    30% {\n",
              "      border-color: transparent;\n",
              "      border-left-color: var(--fill-color);\n",
              "      border-top-color: var(--fill-color);\n",
              "      border-right-color: var(--fill-color);\n",
              "    }\n",
              "    40% {\n",
              "      border-color: transparent;\n",
              "      border-right-color: var(--fill-color);\n",
              "      border-top-color: var(--fill-color);\n",
              "    }\n",
              "    60% {\n",
              "      border-color: transparent;\n",
              "      border-right-color: var(--fill-color);\n",
              "    }\n",
              "    80% {\n",
              "      border-color: transparent;\n",
              "      border-right-color: var(--fill-color);\n",
              "      border-bottom-color: var(--fill-color);\n",
              "    }\n",
              "    90% {\n",
              "      border-color: transparent;\n",
              "      border-bottom-color: var(--fill-color);\n",
              "    }\n",
              "  }\n",
              "</style>\n",
              "\n",
              "  <script>\n",
              "    async function quickchart(key) {\n",
              "      const quickchartButtonEl =\n",
              "        document.querySelector('#' + key + ' button');\n",
              "      quickchartButtonEl.disabled = true;  // To prevent multiple clicks.\n",
              "      quickchartButtonEl.classList.add('colab-df-spinner');\n",
              "      try {\n",
              "        const charts = await google.colab.kernel.invokeFunction(\n",
              "            'suggestCharts', [key], {});\n",
              "      } catch (error) {\n",
              "        console.error('Error during call to suggestCharts:', error);\n",
              "      }\n",
              "      quickchartButtonEl.classList.remove('colab-df-spinner');\n",
              "      quickchartButtonEl.classList.add('colab-df-quickchart-complete');\n",
              "    }\n",
              "    (() => {\n",
              "      let quickchartButtonEl =\n",
              "        document.querySelector('#df-54429088-ec80-41c1-a887-97ce8da5d307 button');\n",
              "      quickchartButtonEl.style.display =\n",
              "        google.colab.kernel.accessAllowed ? 'block' : 'none';\n",
              "    })();\n",
              "  </script>\n",
              "</div>\n",
              "    </div>\n",
              "  </div>\n"
            ]
          },
          "metadata": {},
          "execution_count": 136
        }
      ]
    },
    {
      "cell_type": "code",
      "source": [
        "#Realizamos grafico de pastel del dataframe filtrado\n",
        "Filtro17_index[\"frequency\"].plot(kind='pie', figsize=(10,5), shadow=True, autopct=\"%0.1f %%\")"
      ],
      "metadata": {
        "id": "HyuT6RyH8bvA"
      },
      "execution_count": null,
      "outputs": []
    },
    {
      "cell_type": "markdown",
      "source": [
        "**18° variable**"
      ],
      "metadata": {
        "id": "62O36_JvwySB"
      }
    },
    {
      "cell_type": "code",
      "source": [
        "#Obtengo un análisis univariado de una variable categórica en específico\n",
        "table18= freq_tbl(Micro_Retailer_f['56_procurement_changes_pandemic'])\n",
        "table18\n",
        "\n",
        "#Obtengo un filtro de los valores más reelevantes de la variables categórica seleccionada\n",
        "Filtro18= table18[table18['frequency']>1]\n",
        "Filtro18\n",
        "\n",
        "#Ajusto el indice de mi dataframe\n",
        "Filtro18_index= Filtro18.set_index('56_procurement_changes_pandemic')\n",
        "Filtro18_index"
      ],
      "metadata": {
        "id": "qFoKg5E8_eNQ"
      },
      "execution_count": null,
      "outputs": []
    },
    {
      "cell_type": "code",
      "source": [
        "#Realizamos grafico de pastel del dataframe filtrado\n",
        "Filtro18_index[\"frequency\"].plot(kind='pie', figsize=(10,5), shadow=True, autopct=\"%0.1f %%\")"
      ],
      "metadata": {
        "id": "fERxpKIZ8cOR"
      },
      "execution_count": null,
      "outputs": []
    },
    {
      "cell_type": "markdown",
      "source": [
        "**19° variable**"
      ],
      "metadata": {
        "id": "roTqxlYPwyHh"
      }
    },
    {
      "cell_type": "code",
      "source": [
        "#Obtengo un análisis univariado de una variable categórica en específico\n",
        "table19= freq_tbl(Micro_Retailer_f['279_changes_procurement_pandemic'])\n",
        "table19\n",
        "\n",
        "#Obtengo un filtro de los valores más reelevantes de la variables categórica seleccionada\n",
        "Filtro19= table19[table19['frequency']>1]\n",
        "Filtro19\n",
        "\n",
        "#Ajusto el indice de mi dataframe\n",
        "Filtro19_index= Filtro19.set_index('279_changes_procurement_pandemic')\n",
        "Filtro19_index"
      ],
      "metadata": {
        "id": "VbZTISJy_Xo4"
      },
      "execution_count": null,
      "outputs": []
    },
    {
      "cell_type": "code",
      "source": [
        "#Realizamos grafico de pastel del dataframe filtrado\n",
        "Filtro19_index[\"frequency\"].plot(kind='pie', figsize=(10,5), shadow=True, autopct=\"%0.1f %%\")"
      ],
      "metadata": {
        "id": "TMKK_afw8c6g"
      },
      "execution_count": null,
      "outputs": []
    },
    {
      "cell_type": "markdown",
      "source": [
        "**20° variable**"
      ],
      "metadata": {
        "id": "xW0Kc7VSwx51"
      }
    },
    {
      "cell_type": "code",
      "source": [
        "#Obtengo un análisis univariado de una variable categórica en específico\n",
        "table20= freq_tbl(Micro_Retailer_f['157_frequency_organize_shelves'])\n",
        "table20\n",
        "\n",
        "#Obtengo un filtro de los valores más reelevantes de la variables categórica seleccionada\n",
        "Filtro20= table20[table20['frequency']>1]\n",
        "Filtro20\n",
        "\n",
        "#Ajusto el indice de mi dataframe\n",
        "Filtro20_index= Filtro20.set_index('157_frequency_organize_shelves')\n",
        "Filtro20_index"
      ],
      "metadata": {
        "colab": {
          "base_uri": "https://localhost:8080/",
          "height": 300
        },
        "id": "9ucULnpy_Q3j",
        "outputId": "9985135b-2461-4e37-dc82-f8fc75450729"
      },
      "execution_count": 143,
      "outputs": [
        {
          "output_type": "execute_result",
          "data": {
            "text/plain": [
              "                                frequency  percentage  cumulative_perc\n",
              "157_frequency_organize_shelves                                        \n",
              "Diariamente                            67    0.391813         0.391813\n",
              "Semanalmente                           66    0.385965         0.777778\n",
              "Nunca                                  16    0.093567         0.871345\n",
              "Mensualmente                           12    0.070175         0.941520\n",
              "Quincenalmente                          5    0.029240         0.970760\n",
              "Semestralmente                          2    0.011696         0.982456\n",
              "Anualmente                              2    0.011696         0.994152"
            ],
            "text/html": [
              "\n",
              "  <div id=\"df-ae82c25d-25c3-4a2f-93aa-be9706ee6246\" class=\"colab-df-container\">\n",
              "    <div>\n",
              "<style scoped>\n",
              "    .dataframe tbody tr th:only-of-type {\n",
              "        vertical-align: middle;\n",
              "    }\n",
              "\n",
              "    .dataframe tbody tr th {\n",
              "        vertical-align: top;\n",
              "    }\n",
              "\n",
              "    .dataframe thead th {\n",
              "        text-align: right;\n",
              "    }\n",
              "</style>\n",
              "<table border=\"1\" class=\"dataframe\">\n",
              "  <thead>\n",
              "    <tr style=\"text-align: right;\">\n",
              "      <th></th>\n",
              "      <th>frequency</th>\n",
              "      <th>percentage</th>\n",
              "      <th>cumulative_perc</th>\n",
              "    </tr>\n",
              "    <tr>\n",
              "      <th>157_frequency_organize_shelves</th>\n",
              "      <th></th>\n",
              "      <th></th>\n",
              "      <th></th>\n",
              "    </tr>\n",
              "  </thead>\n",
              "  <tbody>\n",
              "    <tr>\n",
              "      <th>Diariamente</th>\n",
              "      <td>67</td>\n",
              "      <td>0.391813</td>\n",
              "      <td>0.391813</td>\n",
              "    </tr>\n",
              "    <tr>\n",
              "      <th>Semanalmente</th>\n",
              "      <td>66</td>\n",
              "      <td>0.385965</td>\n",
              "      <td>0.777778</td>\n",
              "    </tr>\n",
              "    <tr>\n",
              "      <th>Nunca</th>\n",
              "      <td>16</td>\n",
              "      <td>0.093567</td>\n",
              "      <td>0.871345</td>\n",
              "    </tr>\n",
              "    <tr>\n",
              "      <th>Mensualmente</th>\n",
              "      <td>12</td>\n",
              "      <td>0.070175</td>\n",
              "      <td>0.941520</td>\n",
              "    </tr>\n",
              "    <tr>\n",
              "      <th>Quincenalmente</th>\n",
              "      <td>5</td>\n",
              "      <td>0.029240</td>\n",
              "      <td>0.970760</td>\n",
              "    </tr>\n",
              "    <tr>\n",
              "      <th>Semestralmente</th>\n",
              "      <td>2</td>\n",
              "      <td>0.011696</td>\n",
              "      <td>0.982456</td>\n",
              "    </tr>\n",
              "    <tr>\n",
              "      <th>Anualmente</th>\n",
              "      <td>2</td>\n",
              "      <td>0.011696</td>\n",
              "      <td>0.994152</td>\n",
              "    </tr>\n",
              "  </tbody>\n",
              "</table>\n",
              "</div>\n",
              "    <div class=\"colab-df-buttons\">\n",
              "\n",
              "  <div class=\"colab-df-container\">\n",
              "    <button class=\"colab-df-convert\" onclick=\"convertToInteractive('df-ae82c25d-25c3-4a2f-93aa-be9706ee6246')\"\n",
              "            title=\"Convert this dataframe to an interactive table.\"\n",
              "            style=\"display:none;\">\n",
              "\n",
              "  <svg xmlns=\"http://www.w3.org/2000/svg\" height=\"24px\" viewBox=\"0 -960 960 960\">\n",
              "    <path d=\"M120-120v-720h720v720H120Zm60-500h600v-160H180v160Zm220 220h160v-160H400v160Zm0 220h160v-160H400v160ZM180-400h160v-160H180v160Zm440 0h160v-160H620v160ZM180-180h160v-160H180v160Zm440 0h160v-160H620v160Z\"/>\n",
              "  </svg>\n",
              "    </button>\n",
              "\n",
              "  <style>\n",
              "    .colab-df-container {\n",
              "      display:flex;\n",
              "      gap: 12px;\n",
              "    }\n",
              "\n",
              "    .colab-df-convert {\n",
              "      background-color: #E8F0FE;\n",
              "      border: none;\n",
              "      border-radius: 50%;\n",
              "      cursor: pointer;\n",
              "      display: none;\n",
              "      fill: #1967D2;\n",
              "      height: 32px;\n",
              "      padding: 0 0 0 0;\n",
              "      width: 32px;\n",
              "    }\n",
              "\n",
              "    .colab-df-convert:hover {\n",
              "      background-color: #E2EBFA;\n",
              "      box-shadow: 0px 1px 2px rgba(60, 64, 67, 0.3), 0px 1px 3px 1px rgba(60, 64, 67, 0.15);\n",
              "      fill: #174EA6;\n",
              "    }\n",
              "\n",
              "    .colab-df-buttons div {\n",
              "      margin-bottom: 4px;\n",
              "    }\n",
              "\n",
              "    [theme=dark] .colab-df-convert {\n",
              "      background-color: #3B4455;\n",
              "      fill: #D2E3FC;\n",
              "    }\n",
              "\n",
              "    [theme=dark] .colab-df-convert:hover {\n",
              "      background-color: #434B5C;\n",
              "      box-shadow: 0px 1px 3px 1px rgba(0, 0, 0, 0.15);\n",
              "      filter: drop-shadow(0px 1px 2px rgba(0, 0, 0, 0.3));\n",
              "      fill: #FFFFFF;\n",
              "    }\n",
              "  </style>\n",
              "\n",
              "    <script>\n",
              "      const buttonEl =\n",
              "        document.querySelector('#df-ae82c25d-25c3-4a2f-93aa-be9706ee6246 button.colab-df-convert');\n",
              "      buttonEl.style.display =\n",
              "        google.colab.kernel.accessAllowed ? 'block' : 'none';\n",
              "\n",
              "      async function convertToInteractive(key) {\n",
              "        const element = document.querySelector('#df-ae82c25d-25c3-4a2f-93aa-be9706ee6246');\n",
              "        const dataTable =\n",
              "          await google.colab.kernel.invokeFunction('convertToInteractive',\n",
              "                                                    [key], {});\n",
              "        if (!dataTable) return;\n",
              "\n",
              "        const docLinkHtml = 'Like what you see? Visit the ' +\n",
              "          '<a target=\"_blank\" href=https://colab.research.google.com/notebooks/data_table.ipynb>data table notebook</a>'\n",
              "          + ' to learn more about interactive tables.';\n",
              "        element.innerHTML = '';\n",
              "        dataTable['output_type'] = 'display_data';\n",
              "        await google.colab.output.renderOutput(dataTable, element);\n",
              "        const docLink = document.createElement('div');\n",
              "        docLink.innerHTML = docLinkHtml;\n",
              "        element.appendChild(docLink);\n",
              "      }\n",
              "    </script>\n",
              "  </div>\n",
              "\n",
              "\n",
              "<div id=\"df-204e5644-8196-448a-8009-226eac520cfa\">\n",
              "  <button class=\"colab-df-quickchart\" onclick=\"quickchart('df-204e5644-8196-448a-8009-226eac520cfa')\"\n",
              "            title=\"Suggest charts\"\n",
              "            style=\"display:none;\">\n",
              "\n",
              "<svg xmlns=\"http://www.w3.org/2000/svg\" height=\"24px\"viewBox=\"0 0 24 24\"\n",
              "     width=\"24px\">\n",
              "    <g>\n",
              "        <path d=\"M19 3H5c-1.1 0-2 .9-2 2v14c0 1.1.9 2 2 2h14c1.1 0 2-.9 2-2V5c0-1.1-.9-2-2-2zM9 17H7v-7h2v7zm4 0h-2V7h2v10zm4 0h-2v-4h2v4z\"/>\n",
              "    </g>\n",
              "</svg>\n",
              "  </button>\n",
              "\n",
              "<style>\n",
              "  .colab-df-quickchart {\n",
              "      --bg-color: #E8F0FE;\n",
              "      --fill-color: #1967D2;\n",
              "      --hover-bg-color: #E2EBFA;\n",
              "      --hover-fill-color: #174EA6;\n",
              "      --disabled-fill-color: #AAA;\n",
              "      --disabled-bg-color: #DDD;\n",
              "  }\n",
              "\n",
              "  [theme=dark] .colab-df-quickchart {\n",
              "      --bg-color: #3B4455;\n",
              "      --fill-color: #D2E3FC;\n",
              "      --hover-bg-color: #434B5C;\n",
              "      --hover-fill-color: #FFFFFF;\n",
              "      --disabled-bg-color: #3B4455;\n",
              "      --disabled-fill-color: #666;\n",
              "  }\n",
              "\n",
              "  .colab-df-quickchart {\n",
              "    background-color: var(--bg-color);\n",
              "    border: none;\n",
              "    border-radius: 50%;\n",
              "    cursor: pointer;\n",
              "    display: none;\n",
              "    fill: var(--fill-color);\n",
              "    height: 32px;\n",
              "    padding: 0;\n",
              "    width: 32px;\n",
              "  }\n",
              "\n",
              "  .colab-df-quickchart:hover {\n",
              "    background-color: var(--hover-bg-color);\n",
              "    box-shadow: 0 1px 2px rgba(60, 64, 67, 0.3), 0 1px 3px 1px rgba(60, 64, 67, 0.15);\n",
              "    fill: var(--button-hover-fill-color);\n",
              "  }\n",
              "\n",
              "  .colab-df-quickchart-complete:disabled,\n",
              "  .colab-df-quickchart-complete:disabled:hover {\n",
              "    background-color: var(--disabled-bg-color);\n",
              "    fill: var(--disabled-fill-color);\n",
              "    box-shadow: none;\n",
              "  }\n",
              "\n",
              "  .colab-df-spinner {\n",
              "    border: 2px solid var(--fill-color);\n",
              "    border-color: transparent;\n",
              "    border-bottom-color: var(--fill-color);\n",
              "    animation:\n",
              "      spin 1s steps(1) infinite;\n",
              "  }\n",
              "\n",
              "  @keyframes spin {\n",
              "    0% {\n",
              "      border-color: transparent;\n",
              "      border-bottom-color: var(--fill-color);\n",
              "      border-left-color: var(--fill-color);\n",
              "    }\n",
              "    20% {\n",
              "      border-color: transparent;\n",
              "      border-left-color: var(--fill-color);\n",
              "      border-top-color: var(--fill-color);\n",
              "    }\n",
              "    30% {\n",
              "      border-color: transparent;\n",
              "      border-left-color: var(--fill-color);\n",
              "      border-top-color: var(--fill-color);\n",
              "      border-right-color: var(--fill-color);\n",
              "    }\n",
              "    40% {\n",
              "      border-color: transparent;\n",
              "      border-right-color: var(--fill-color);\n",
              "      border-top-color: var(--fill-color);\n",
              "    }\n",
              "    60% {\n",
              "      border-color: transparent;\n",
              "      border-right-color: var(--fill-color);\n",
              "    }\n",
              "    80% {\n",
              "      border-color: transparent;\n",
              "      border-right-color: var(--fill-color);\n",
              "      border-bottom-color: var(--fill-color);\n",
              "    }\n",
              "    90% {\n",
              "      border-color: transparent;\n",
              "      border-bottom-color: var(--fill-color);\n",
              "    }\n",
              "  }\n",
              "</style>\n",
              "\n",
              "  <script>\n",
              "    async function quickchart(key) {\n",
              "      const quickchartButtonEl =\n",
              "        document.querySelector('#' + key + ' button');\n",
              "      quickchartButtonEl.disabled = true;  // To prevent multiple clicks.\n",
              "      quickchartButtonEl.classList.add('colab-df-spinner');\n",
              "      try {\n",
              "        const charts = await google.colab.kernel.invokeFunction(\n",
              "            'suggestCharts', [key], {});\n",
              "      } catch (error) {\n",
              "        console.error('Error during call to suggestCharts:', error);\n",
              "      }\n",
              "      quickchartButtonEl.classList.remove('colab-df-spinner');\n",
              "      quickchartButtonEl.classList.add('colab-df-quickchart-complete');\n",
              "    }\n",
              "    (() => {\n",
              "      let quickchartButtonEl =\n",
              "        document.querySelector('#df-204e5644-8196-448a-8009-226eac520cfa button');\n",
              "      quickchartButtonEl.style.display =\n",
              "        google.colab.kernel.accessAllowed ? 'block' : 'none';\n",
              "    })();\n",
              "  </script>\n",
              "</div>\n",
              "    </div>\n",
              "  </div>\n"
            ]
          },
          "metadata": {},
          "execution_count": 143
        }
      ]
    },
    {
      "cell_type": "code",
      "source": [
        "#Realizamos grafico de pastel del dataframe filtrado\n",
        "Filtro20_index[\"frequency\"].plot(kind='pie', figsize=(10,5), shadow=True, autopct=\"%0.1f %%\")"
      ],
      "metadata": {
        "colab": {
          "base_uri": "https://localhost:8080/",
          "height": 439
        },
        "id": "Ma1EOjPO8dZl",
        "outputId": "37891989-e169-4ea7-911b-fe060e613546"
      },
      "execution_count": 144,
      "outputs": [
        {
          "output_type": "execute_result",
          "data": {
            "text/plain": [
              "<Axes: ylabel='frequency'>"
            ]
          },
          "metadata": {},
          "execution_count": 144
        },
        {
          "output_type": "display_data",
          "data": {
            "text/plain": [
              "<Figure size 1000x500 with 1 Axes>"
            ],
            "image/png": "[encoded data removed]"
          },
          "metadata": {}
        }
      ]
    }
  ]
}